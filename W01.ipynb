{
 "cells": [
  {
   "cell_type": "markdown",
   "id": "779a205a-1317-420e-9358-b6d07760dc53",
   "metadata": {},
   "source": [
    "Machine Learning Zoomcamp\n",
    "=========================\n",
    "\n",
    "\n",
    "Email: ad4c1c7fac2949764e8b27b012982dfcd7cfa9eb\n",
    "\n"
   ]
  },
  {
   "cell_type": "code",
   "execution_count": 1,
   "id": "219aeaf2-ae95-4f58-9ae4-e661bcbffb02",
   "metadata": {},
   "outputs": [],
   "source": [
    "import pandas as pd\n",
    "import numpy as np"
   ]
  },
  {
   "cell_type": "markdown",
   "id": "15300f6f-c69e-4834-bc84-1dfdecdf15ff",
   "metadata": {},
   "source": [
    "### Question 1  \n",
    "What's the version of NumPy that you installed?\n",
    "\n",
    "You can get the version information using the __version__ field:"
   ]
  },
  {
   "cell_type": "code",
   "execution_count": 2,
   "id": "d5583f70-8e51-4252-aacf-8df70ad54973",
   "metadata": {},
   "outputs": [
    {
     "data": {
      "text/plain": [
       "'1.23.1'"
      ]
     },
     "execution_count": 2,
     "metadata": {},
     "output_type": "execute_result"
    }
   ],
   "source": [
    "np.__version__"
   ]
  },
  {
   "cell_type": "markdown",
   "id": "47e02ddb-a60c-4176-a2d9-fcb834a79a97",
   "metadata": {},
   "source": [
    "### A1: \n",
    "1.23.1"
   ]
  },
  {
   "cell_type": "markdown",
   "id": "6d741e63-2973-4eef-929b-a0f7ea17c09b",
   "metadata": {},
   "source": [
    "### Question 2\n",
    "\n",
    "How many records are in the dataset?\n",
    "\n",
    "Here you need to specify the number of rows."
   ]
  },
  {
   "cell_type": "code",
   "execution_count": 3,
   "id": "c6dd024f-9bb0-4ce1-8e93-ddfabbbab9ae",
   "metadata": {},
   "outputs": [
    {
     "data": {
      "text/plain": [
       "11914"
      ]
     },
     "execution_count": 3,
     "metadata": {},
     "output_type": "execute_result"
    }
   ],
   "source": [
    "df_cars = (\n",
    "    pd.read_csv('data/car_data_set_zc/data.csv')\n",
    ")\n",
    "df_cars.shape[0]\n",
    "    "
   ]
  },
  {
   "cell_type": "markdown",
   "id": "4312a871-65c3-4a35-87af-30a1c3e4acde",
   "metadata": {},
   "source": [
    "### A2:\n",
    "11914"
   ]
  },
  {
   "cell_type": "markdown",
   "id": "40f66988-ea86-4079-9431-d948624c33ac",
   "metadata": {},
   "source": [
    "### Question 3\n",
    "Who are the most popular car manufacturers (top-3) according to the dataset?"
   ]
  },
  {
   "cell_type": "code",
   "execution_count": 4,
   "id": "b09103d0-467b-4b0d-94fa-8a7f0140c61b",
   "metadata": {},
   "outputs": [
    {
     "name": "stdout",
     "output_type": "stream",
     "text": [
      "Chevrolet, Ford, Volkswagen\n"
     ]
    }
   ],
   "source": [
    "print(\", \".join(\n",
    "    df_cars.groupby(['Make']).size()\n",
    "    .sort_values(ascending=False)\n",
    "    .head(3)\n",
    "    .reset_index()\n",
    "    ['Make']\n",
    "    .to_list()\n",
    "))"
   ]
  },
  {
   "cell_type": "markdown",
   "id": "3fabe411-aeec-4a44-bc7f-02006fd079ab",
   "metadata": {},
   "source": [
    "A3:  \n",
    "Chevrolet, Ford, Volkswagen"
   ]
  },
  {
   "cell_type": "markdown",
   "id": "72932bc0-04ab-4c67-be2e-7e953711642c",
   "metadata": {},
   "source": [
    "### Question 4\n",
    "What's the number of unique Audi car models in the dataset?"
   ]
  },
  {
   "cell_type": "code",
   "execution_count": 5,
   "id": "57721220-386f-4e04-88f0-e93aecd0fcd7",
   "metadata": {},
   "outputs": [
    {
     "data": {
      "text/plain": [
       "34"
      ]
     },
     "execution_count": 5,
     "metadata": {},
     "output_type": "execute_result"
    }
   ],
   "source": [
    "(\n",
    "    df_cars[df_cars['Make'] == 'Audi'].groupby(['Model']).size().count()\n",
    ")"
   ]
  },
  {
   "cell_type": "markdown",
   "id": "40e9bb68-5e9f-41b9-86db-3d053e31975f",
   "metadata": {},
   "source": [
    "### A4\n",
    "34\n"
   ]
  },
  {
   "cell_type": "code",
   "execution_count": 6,
   "id": "ab69aa4b-7380-4ff9-a152-8b69830ffaf2",
   "metadata": {},
   "outputs": [
    {
     "name": "stdout",
     "output_type": "stream",
     "text": [
      "Object `values` not found.\n"
     ]
    }
   ],
   "source": [
    "### Question 5\n",
    "How many columns in the dataset have missing values?\n"
   ]
  },
  {
   "cell_type": "code",
   "execution_count": 7,
   "id": "84c3e116-e7f3-4493-bf9e-7c8d27516f6b",
   "metadata": {},
   "outputs": [
    {
     "data": {
      "text/html": [
       "<div>\n",
       "<style scoped>\n",
       "    .dataframe tbody tr th:only-of-type {\n",
       "        vertical-align: middle;\n",
       "    }\n",
       "\n",
       "    .dataframe tbody tr th {\n",
       "        vertical-align: top;\n",
       "    }\n",
       "\n",
       "    .dataframe thead th {\n",
       "        text-align: right;\n",
       "    }\n",
       "</style>\n",
       "<table border=\"1\" class=\"dataframe\">\n",
       "  <thead>\n",
       "    <tr style=\"text-align: right;\">\n",
       "      <th></th>\n",
       "      <th>index</th>\n",
       "      <th>missing_values</th>\n",
       "    </tr>\n",
       "  </thead>\n",
       "  <tbody>\n",
       "    <tr>\n",
       "      <th>3</th>\n",
       "      <td>Engine Fuel Type</td>\n",
       "      <td>3</td>\n",
       "    </tr>\n",
       "    <tr>\n",
       "      <th>4</th>\n",
       "      <td>Engine HP</td>\n",
       "      <td>69</td>\n",
       "    </tr>\n",
       "    <tr>\n",
       "      <th>5</th>\n",
       "      <td>Engine Cylinders</td>\n",
       "      <td>30</td>\n",
       "    </tr>\n",
       "    <tr>\n",
       "      <th>8</th>\n",
       "      <td>Number of Doors</td>\n",
       "      <td>6</td>\n",
       "    </tr>\n",
       "    <tr>\n",
       "      <th>9</th>\n",
       "      <td>Market Category</td>\n",
       "      <td>3742</td>\n",
       "    </tr>\n",
       "  </tbody>\n",
       "</table>\n",
       "</div>"
      ],
      "text/plain": [
       "              index  missing_values\n",
       "3  Engine Fuel Type               3\n",
       "4         Engine HP              69\n",
       "5  Engine Cylinders              30\n",
       "8   Number of Doors               6\n",
       "9   Market Category            3742"
      ]
     },
     "execution_count": 7,
     "metadata": {},
     "output_type": "execute_result"
    }
   ],
   "source": [
    "(\n",
    "    df_cars.isnull().sum()\n",
    "    .reset_index()\n",
    "    .rename(columns={0: 'missing_values'})\n",
    "    .query('missing_values > 0')\n",
    ")"
   ]
  },
  {
   "cell_type": "markdown",
   "id": "0ccc8aa9-79de-4c5f-8bcb-007dcbe82f72",
   "metadata": {},
   "source": [
    "### A5\n",
    "5"
   ]
  },
  {
   "cell_type": "markdown",
   "id": "326b5ebf-d3e9-4247-9b8c-c4577543cab9",
   "metadata": {},
   "source": [
    "### Question 6\n",
    "Find the median value of \"Engine Cylinders\" column in the dataset.  \n",
    "Next, calculate the most frequent value of the same \"Engine Cylinders\".  \n",
    "Use the fillna method to fill the missing values in \"Engine Cylinders\" with the most frequent value from the previous step.  \n",
    "Now, calculate the median value of \"Engine Cylinders\" once again.  "
   ]
  },
  {
   "cell_type": "code",
   "execution_count": 8,
   "id": "12c8a8f4-871d-4dca-b98c-9b1df558423b",
   "metadata": {},
   "outputs": [
    {
     "name": "stdout",
     "output_type": "stream",
     "text": [
      "ec_median=6.0\n",
      "ec_mode=4.0\n",
      "ec_mean=5.628828677213059\n",
      "ec_median2=6.0\n",
      "ec_mean2=5.624727211683734\n"
     ]
    }
   ],
   "source": [
    "ec_median = df_cars['Engine Cylinders'].median()\n",
    "ec_mode = df_cars['Engine Cylinders'].mode()[0]\n",
    "ec_mean = df_cars['Engine Cylinders'].mean()\n",
    "\n",
    "df_cars = df_cars.fillna({'Engine Cylinders': ec_mode})\n",
    "\n",
    "ec_median2 = df_cars['Engine Cylinders'].median()\n",
    "ec_mean2 = df_cars['Engine Cylinders'].mean()\n",
    "\n",
    "\n",
    "\n",
    "print(f\"{ec_median=}\")\n",
    "print(f\"{ec_mode=}\")\n",
    "print(f\"{ec_mean=}\")\n",
    "\n",
    "print(f\"{ec_median2=}\")\n",
    "print(f\"{ec_mean2=}\")"
   ]
  },
  {
   "cell_type": "markdown",
   "id": "9fecf7f2-dd8a-4075-b352-3d2ece3faf5e",
   "metadata": {},
   "source": [
    "### A6)\n",
    "No"
   ]
  },
  {
   "cell_type": "markdown",
   "id": "c53a6573-8567-4603-b7f5-0b49c3208afb",
   "metadata": {},
   "source": [
    "### Question 7\n",
    "Select all the \"Lotus\" cars from the dataset.  \n",
    "Select only columns \"Engine HP\", \"Engine Cylinders\".  \n",
    "Now drop all duplicated rows using drop_duplicates method (you should get a dataframe with 9 rows).  \n",
    "Get the underlying NumPy array. Let's call it X.  \n",
    "Compute matrix-matrix multiplication between the transpose of X and X. To get the transpose, use X.T. Let's call the result XTX.  \n",
    "Invert XTX.  \n",
    "Create an array y with values [1100, 800, 750, 850, 1300, 1000, 1000, 1300, 800].  \n",
    "Multiply the inverse of XTX with the transpose of X, and then multiply the result by y. Call the result w.  \n",
    "What's the value of the first element of w?  \n"
   ]
  },
  {
   "cell_type": "code",
   "execution_count": 35,
   "id": "cea1ed19-a3fc-4be6-9e5b-d28248b628b1",
   "metadata": {},
   "outputs": [
    {
     "name": "stdout",
     "output_type": "stream",
     "text": [
      "[  4.59494481 -63.56432501]\n"
     ]
    }
   ],
   "source": [
    "X = (\n",
    "    df_cars\n",
    "    [df_cars['Make'] == 'Lotus']\n",
    "    [['Engine HP', 'Engine Cylinders']]\n",
    "    .drop_duplicates()\n",
    "    .to_numpy()\n",
    ")\n",
    "\n",
    "XTX = X.T.dot(X)\n",
    "XTX_inv = np.linalg.inv(XTX)\n",
    "\n",
    "y = np.array([1100, 800, 750, 850, 1300, 1000, 1000, 1300, 800])\n",
    "\n",
    "w = XTX_inv.dot(X.T).dot(y)\n",
    "print(w)"
   ]
  },
  {
   "cell_type": "code",
   "execution_count": null,
   "id": "d236ce78-c647-464c-b43f-7052f5423b17",
   "metadata": {},
   "outputs": [],
   "source": [
    "### A7\n",
    "4.59494481"
   ]
  }
 ],
 "metadata": {
  "kernelspec": {
   "display_name": "Python 3 (ipykernel)",
   "language": "python",
   "name": "python3"
  },
  "language_info": {
   "codemirror_mode": {
    "name": "ipython",
    "version": 3
   },
   "file_extension": ".py",
   "mimetype": "text/x-python",
   "name": "python",
   "nbconvert_exporter": "python",
   "pygments_lexer": "ipython3",
   "version": "3.10.5"
  }
 },
 "nbformat": 4,
 "nbformat_minor": 5
}
